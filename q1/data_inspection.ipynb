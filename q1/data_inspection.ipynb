{
 "cells": [
  {
   "cell_type": "code",
   "execution_count": 56,
   "id": "described-quarter",
   "metadata": {},
   "outputs": [],
   "source": [
    "import pandas as pd\n",
    "import os\n",
    "import numpy as np"
   ]
  },
  {
   "cell_type": "code",
   "execution_count": 15,
   "id": "interstate-grace",
   "metadata": {},
   "outputs": [],
   "source": [
    "file = ['receipts', 'users', 'brands']\n",
    "\n",
    "receipts = os.path.join('data_files', file[0]+'.json')\n",
    "users = os.path.join('data_files', file[1]+'.json')\n",
    "brands = os.path.join('data_files', file[2]+'.json')"
   ]
  },
  {
   "cell_type": "code",
   "execution_count": 16,
   "id": "civic-facial",
   "metadata": {},
   "outputs": [
    {
     "data": {
      "text/plain": [
       "'data_files/users.json'"
      ]
     },
     "execution_count": 16,
     "metadata": {},
     "output_type": "execute_result"
    }
   ],
   "source": [
    "users"
   ]
  },
  {
   "cell_type": "code",
   "execution_count": 17,
   "id": "prime-million",
   "metadata": {},
   "outputs": [],
   "source": [
    "df_receipts = pd.read_json(receipts, orient='records', lines=True)\n",
    "df_users = pd.read_json(users, orient='records', lines=True)\n",
    "df_brands = pd.read_json(brands, orient='records', lines=True)"
   ]
  },
  {
   "cell_type": "markdown",
   "id": "satisfactory-application",
   "metadata": {},
   "source": [
    "<hr>\n",
    "\n",
    "### Receipts data"
   ]
  },
  {
   "cell_type": "code",
   "execution_count": 18,
   "id": "toxic-superior",
   "metadata": {
    "scrolled": true
   },
   "outputs": [
    {
     "data": {
      "text/html": [
       "<div>\n",
       "<style scoped>\n",
       "    .dataframe tbody tr th:only-of-type {\n",
       "        vertical-align: middle;\n",
       "    }\n",
       "\n",
       "    .dataframe tbody tr th {\n",
       "        vertical-align: top;\n",
       "    }\n",
       "\n",
       "    .dataframe thead th {\n",
       "        text-align: right;\n",
       "    }\n",
       "</style>\n",
       "<table border=\"1\" class=\"dataframe\">\n",
       "  <thead>\n",
       "    <tr style=\"text-align: right;\">\n",
       "      <th></th>\n",
       "      <th>_id</th>\n",
       "      <th>bonusPointsEarned</th>\n",
       "      <th>bonusPointsEarnedReason</th>\n",
       "      <th>createDate</th>\n",
       "      <th>dateScanned</th>\n",
       "      <th>finishedDate</th>\n",
       "      <th>modifyDate</th>\n",
       "      <th>pointsAwardedDate</th>\n",
       "      <th>pointsEarned</th>\n",
       "      <th>purchaseDate</th>\n",
       "      <th>purchasedItemCount</th>\n",
       "      <th>rewardsReceiptItemList</th>\n",
       "      <th>rewardsReceiptStatus</th>\n",
       "      <th>totalSpent</th>\n",
       "      <th>userId</th>\n",
       "    </tr>\n",
       "  </thead>\n",
       "  <tbody>\n",
       "    <tr>\n",
       "      <th>0</th>\n",
       "      <td>{'$oid': '5ff1e1eb0a720f0523000575'}</td>\n",
       "      <td>500.0</td>\n",
       "      <td>Receipt number 2 completed, bonus point schedu...</td>\n",
       "      <td>{'$date': 1609687531000}</td>\n",
       "      <td>{'$date': 1609687531000}</td>\n",
       "      <td>{'$date': 1609687531000}</td>\n",
       "      <td>{'$date': 1609687536000}</td>\n",
       "      <td>{'$date': 1609687531000}</td>\n",
       "      <td>500.0</td>\n",
       "      <td>{'$date': 1609632000000}</td>\n",
       "      <td>5.0</td>\n",
       "      <td>[{'barcode': '4011', 'description': 'ITEM NOT ...</td>\n",
       "      <td>FINISHED</td>\n",
       "      <td>26.0</td>\n",
       "      <td>5ff1e1eacfcf6c399c274ae6</td>\n",
       "    </tr>\n",
       "    <tr>\n",
       "      <th>1</th>\n",
       "      <td>{'$oid': '5ff1e1bb0a720f052300056b'}</td>\n",
       "      <td>150.0</td>\n",
       "      <td>Receipt number 5 completed, bonus point schedu...</td>\n",
       "      <td>{'$date': 1609687483000}</td>\n",
       "      <td>{'$date': 1609687483000}</td>\n",
       "      <td>{'$date': 1609687483000}</td>\n",
       "      <td>{'$date': 1609687488000}</td>\n",
       "      <td>{'$date': 1609687483000}</td>\n",
       "      <td>150.0</td>\n",
       "      <td>{'$date': 1609601083000}</td>\n",
       "      <td>2.0</td>\n",
       "      <td>[{'barcode': '4011', 'description': 'ITEM NOT ...</td>\n",
       "      <td>FINISHED</td>\n",
       "      <td>11.0</td>\n",
       "      <td>5ff1e194b6a9d73a3a9f1052</td>\n",
       "    </tr>\n",
       "    <tr>\n",
       "      <th>2</th>\n",
       "      <td>{'$oid': '5ff1e1f10a720f052300057a'}</td>\n",
       "      <td>5.0</td>\n",
       "      <td>All-receipts receipt bonus</td>\n",
       "      <td>{'$date': 1609687537000}</td>\n",
       "      <td>{'$date': 1609687537000}</td>\n",
       "      <td>NaN</td>\n",
       "      <td>{'$date': 1609687542000}</td>\n",
       "      <td>NaN</td>\n",
       "      <td>5.0</td>\n",
       "      <td>{'$date': 1609632000000}</td>\n",
       "      <td>1.0</td>\n",
       "      <td>[{'needsFetchReview': False, 'partnerItemId': ...</td>\n",
       "      <td>REJECTED</td>\n",
       "      <td>10.0</td>\n",
       "      <td>5ff1e1f1cfcf6c399c274b0b</td>\n",
       "    </tr>\n",
       "  </tbody>\n",
       "</table>\n",
       "</div>"
      ],
      "text/plain": [
       "                                    _id  bonusPointsEarned  \\\n",
       "0  {'$oid': '5ff1e1eb0a720f0523000575'}              500.0   \n",
       "1  {'$oid': '5ff1e1bb0a720f052300056b'}              150.0   \n",
       "2  {'$oid': '5ff1e1f10a720f052300057a'}                5.0   \n",
       "\n",
       "                             bonusPointsEarnedReason  \\\n",
       "0  Receipt number 2 completed, bonus point schedu...   \n",
       "1  Receipt number 5 completed, bonus point schedu...   \n",
       "2                         All-receipts receipt bonus   \n",
       "\n",
       "                 createDate               dateScanned  \\\n",
       "0  {'$date': 1609687531000}  {'$date': 1609687531000}   \n",
       "1  {'$date': 1609687483000}  {'$date': 1609687483000}   \n",
       "2  {'$date': 1609687537000}  {'$date': 1609687537000}   \n",
       "\n",
       "               finishedDate                modifyDate  \\\n",
       "0  {'$date': 1609687531000}  {'$date': 1609687536000}   \n",
       "1  {'$date': 1609687483000}  {'$date': 1609687488000}   \n",
       "2                       NaN  {'$date': 1609687542000}   \n",
       "\n",
       "          pointsAwardedDate  pointsEarned              purchaseDate  \\\n",
       "0  {'$date': 1609687531000}         500.0  {'$date': 1609632000000}   \n",
       "1  {'$date': 1609687483000}         150.0  {'$date': 1609601083000}   \n",
       "2                       NaN           5.0  {'$date': 1609632000000}   \n",
       "\n",
       "   purchasedItemCount                             rewardsReceiptItemList  \\\n",
       "0                 5.0  [{'barcode': '4011', 'description': 'ITEM NOT ...   \n",
       "1                 2.0  [{'barcode': '4011', 'description': 'ITEM NOT ...   \n",
       "2                 1.0  [{'needsFetchReview': False, 'partnerItemId': ...   \n",
       "\n",
       "  rewardsReceiptStatus  totalSpent                    userId  \n",
       "0             FINISHED        26.0  5ff1e1eacfcf6c399c274ae6  \n",
       "1             FINISHED        11.0  5ff1e194b6a9d73a3a9f1052  \n",
       "2             REJECTED        10.0  5ff1e1f1cfcf6c399c274b0b  "
      ]
     },
     "execution_count": 18,
     "metadata": {},
     "output_type": "execute_result"
    }
   ],
   "source": [
    "df_receipts.head(3)"
   ]
  },
  {
   "cell_type": "code",
   "execution_count": 23,
   "id": "surface-centre",
   "metadata": {
    "scrolled": true
   },
   "outputs": [
    {
     "data": {
      "text/plain": [
       "_id                         object\n",
       "bonusPointsEarned          float64\n",
       "bonusPointsEarnedReason     object\n",
       "createDate                  object\n",
       "dateScanned                 object\n",
       "finishedDate                object\n",
       "modifyDate                  object\n",
       "pointsAwardedDate           object\n",
       "pointsEarned               float64\n",
       "purchaseDate                object\n",
       "purchasedItemCount         float64\n",
       "rewardsReceiptItemList      object\n",
       "rewardsReceiptStatus        object\n",
       "totalSpent                 float64\n",
       "userId                      object\n",
       "dtype: object"
      ]
     },
     "execution_count": 23,
     "metadata": {},
     "output_type": "execute_result"
    }
   ],
   "source": [
    "df_receipts.dtypes"
   ]
  },
  {
   "cell_type": "code",
   "execution_count": 30,
   "id": "alive-strategy",
   "metadata": {
    "scrolled": true
   },
   "outputs": [
    {
     "data": {
      "text/plain": [
       "_id                        False\n",
       "bonusPointsEarned           True\n",
       "bonusPointsEarnedReason     True\n",
       "createDate                 False\n",
       "dateScanned                False\n",
       "finishedDate                True\n",
       "modifyDate                 False\n",
       "pointsAwardedDate           True\n",
       "pointsEarned                True\n",
       "purchaseDate                True\n",
       "purchasedItemCount          True\n",
       "rewardsReceiptItemList      True\n",
       "rewardsReceiptStatus       False\n",
       "totalSpent                  True\n",
       "userId                     False\n",
       "dtype: bool"
      ]
     },
     "execution_count": 30,
     "metadata": {},
     "output_type": "execute_result"
    }
   ],
   "source": [
    "# Check if null values are allowed in each field\n",
    "df_receipts.isna().any()"
   ]
  },
  {
   "cell_type": "code",
   "execution_count": 34,
   "id": "essential-crystal",
   "metadata": {},
   "outputs": [
    {
     "data": {
      "text/plain": [
       "[{'barcode': '4011',\n",
       "  'description': 'ITEM NOT FOUND',\n",
       "  'finalPrice': '26.00',\n",
       "  'itemPrice': '26.00',\n",
       "  'needsFetchReview': False,\n",
       "  'partnerItemId': '1',\n",
       "  'preventTargetGapPoints': True,\n",
       "  'quantityPurchased': 5,\n",
       "  'userFlaggedBarcode': '4011',\n",
       "  'userFlaggedNewItem': True,\n",
       "  'userFlaggedPrice': '26.00',\n",
       "  'userFlaggedQuantity': 5}]"
      ]
     },
     "execution_count": 34,
     "metadata": {},
     "output_type": "execute_result"
    }
   ],
   "source": [
    "# What is in `rewardsReceiptItemList`?\n",
    "\n",
    "df_receipts['rewardsReceiptItemList'][0]"
   ]
  },
  {
   "cell_type": "code",
   "execution_count": 33,
   "id": "proof-harrison",
   "metadata": {
    "scrolled": true
   },
   "outputs": [
    {
     "data": {
      "text/plain": [
       "[{'barcode': '4011',\n",
       "  'description': 'ITEM NOT FOUND',\n",
       "  'finalPrice': '1',\n",
       "  'itemPrice': '1',\n",
       "  'partnerItemId': '1',\n",
       "  'quantityPurchased': 1},\n",
       " {'barcode': '028400642255',\n",
       "  'description': 'DORITOS TORTILLA CHIP SPICY SWEET CHILI REDUCED FAT BAG 1 OZ',\n",
       "  'finalPrice': '10.00',\n",
       "  'itemPrice': '10.00',\n",
       "  'needsFetchReview': True,\n",
       "  'needsFetchReviewReason': 'USER_FLAGGED',\n",
       "  'partnerItemId': '2',\n",
       "  'pointsNotAwardedReason': 'Action not allowed for user and CPG',\n",
       "  'pointsPayerId': '5332f5fbe4b03c9a25efd0ba',\n",
       "  'preventTargetGapPoints': True,\n",
       "  'quantityPurchased': 1,\n",
       "  'rewardsGroup': 'DORITOS SPICY SWEET CHILI SINGLE SERVE',\n",
       "  'rewardsProductPartnerId': '5332f5fbe4b03c9a25efd0ba',\n",
       "  'userFlaggedBarcode': '028400642255',\n",
       "  'userFlaggedDescription': 'DORITOS TORTILLA CHIP SPICY SWEET CHILI REDUCED FAT BAG 1 OZ',\n",
       "  'userFlaggedNewItem': True,\n",
       "  'userFlaggedPrice': '10.00',\n",
       "  'userFlaggedQuantity': 1}]"
      ]
     },
     "execution_count": 33,
     "metadata": {},
     "output_type": "execute_result"
    }
   ],
   "source": [
    "df_receipts['rewardsReceiptItemList'][1]"
   ]
  },
  {
   "cell_type": "code",
   "execution_count": 69,
   "id": "informative-country",
   "metadata": {},
   "outputs": [
    {
     "data": {
      "text/plain": [
       "[{'barcode': '4011',\n",
       "  'description': 'ITEM NOT FOUND',\n",
       "  'finalPrice': '3.25',\n",
       "  'itemPrice': '3.25',\n",
       "  'needsFetchReview': False,\n",
       "  'originalMetaBriteBarcode': '028400642255',\n",
       "  'originalMetaBriteDescription': 'DORITOS TORTILLA CHIP SPICY SWEET CHILI REDUCED FAT BAG 1 OZ',\n",
       "  'partnerItemId': '1',\n",
       "  'pointsNotAwardedReason': 'Action not allowed for user and CPG',\n",
       "  'pointsPayerId': '5332f5fbe4b03c9a25efd0ba',\n",
       "  'preventTargetGapPoints': True,\n",
       "  'quantityPurchased': 1,\n",
       "  'rewardsGroup': 'DORITOS SPICY SWEET CHILI SINGLE SERVE',\n",
       "  'rewardsProductPartnerId': '5332f5fbe4b03c9a25efd0ba',\n",
       "  'userFlaggedBarcode': '4011'}]"
      ]
     },
     "execution_count": 69,
     "metadata": {},
     "output_type": "execute_result"
    }
   ],
   "source": [
    "df_receipts['rewardsReceiptItemList'][5]"
   ]
  },
  {
   "cell_type": "code",
   "execution_count": 63,
   "id": "industrial-granny",
   "metadata": {
    "scrolled": true
   },
   "outputs": [
    {
     "data": {
      "text/plain": [
       "['barcode',\n",
       " 'description',\n",
       " 'finalPrice',\n",
       " 'itemPrice',\n",
       " 'needsFetchReview',\n",
       " 'partnerItemId',\n",
       " 'preventTargetGapPoints',\n",
       " 'quantityPurchased',\n",
       " 'userFlaggedBarcode',\n",
       " 'userFlaggedNewItem',\n",
       " 'userFlaggedPrice',\n",
       " 'userFlaggedQuantity',\n",
       " 'needsFetchReviewReason',\n",
       " 'pointsNotAwardedReason',\n",
       " 'pointsPayerId',\n",
       " 'rewardsGroup',\n",
       " 'rewardsProductPartnerId',\n",
       " 'userFlaggedDescription',\n",
       " 'originalMetaBriteBarcode',\n",
       " 'originalMetaBriteDescription',\n",
       " 'brandCode',\n",
       " 'competitorRewardsGroup',\n",
       " 'discountedItemPrice',\n",
       " 'originalReceiptItemText',\n",
       " 'itemNumber',\n",
       " 'originalMetaBriteQuantityPurchased',\n",
       " 'pointsEarned',\n",
       " 'targetPrice',\n",
       " 'competitiveProduct',\n",
       " 'originalFinalPrice',\n",
       " 'originalMetaBriteItemPrice',\n",
       " 'deleted',\n",
       " 'priceAfterCoupon',\n",
       " 'metabriteCampaignId']"
      ]
     },
     "execution_count": 63,
     "metadata": {},
     "output_type": "execute_result"
    }
   ],
   "source": [
    "# Get a list of all possible keys in the `rewardsReceiptItemList` field...\n",
    "keys_in_item_list = []\n",
    "\n",
    "for item_list in df_receipts.loc[df_receipts['rewardsReceiptItemList'].notnull(),\n",
    "                                 'rewardsReceiptItemList']:\n",
    "    for item in item_list:\n",
    "        for key in item:\n",
    "            if key not in keys_in_item_list:\n",
    "                keys_in_item_list.append(key)\n",
    "                \n",
    "keys_in_item_list"
   ]
  },
  {
   "cell_type": "code",
   "execution_count": 113,
   "id": "royal-bullet",
   "metadata": {},
   "outputs": [
    {
     "name": "stdout",
     "output_type": "stream",
     "text": [
      "barcode\n",
      "description\n",
      "finalPrice\n",
      "itemPrice\n",
      "needsFetchReview\n",
      "partnerItemId\n",
      "preventTargetGapPoints\n",
      "quantityPurchased\n",
      "userFlaggedBarcode\n",
      "userFlaggedNewItem\n",
      "userFlaggedPrice\n",
      "userFlaggedQuantity\n",
      "needsFetchReviewReason\n",
      "pointsNotAwardedReason\n",
      "pointsPayerId\n",
      "rewardsGroup\n",
      "rewardsProductPartnerId\n",
      "userFlaggedDescription\n",
      "originalMetaBriteBarcode\n",
      "originalMetaBriteDescription\n",
      "brandCode\n",
      "competitorRewardsGroup\n",
      "discountedItemPrice\n",
      "originalReceiptItemText\n",
      "itemNumber\n",
      "originalMetaBriteQuantityPurchased\n",
      "pointsEarned\n",
      "targetPrice\n",
      "competitiveProduct\n",
      "originalFinalPrice\n",
      "originalMetaBriteItemPrice\n",
      "deleted\n",
      "priceAfterCoupon\n",
      "metabriteCampaignId\n"
     ]
    }
   ],
   "source": [
    "# for i in keys_in_item_list:\n",
    "#     print(i)"
   ]
  },
  {
   "cell_type": "code",
   "execution_count": 110,
   "id": "plastic-visibility",
   "metadata": {},
   "outputs": [
    {
     "name": "stdout",
     "output_type": "stream",
     "text": [
      "[ True]\n",
      "True\n"
     ]
    }
   ],
   "source": [
    "# Check to see if `pointsPayerId` is always the same as `rewardsProductPartnerId`\n",
    "pointsPayerId = []\n",
    "rewardsProductPartnerId = []\n",
    "\n",
    "for item_list in df_receipts.loc[df_receipts['rewardsReceiptItemList'].notnull(),\n",
    "                                 'rewardsReceiptItemList']:\n",
    "    for item in item_list:\n",
    "        try:\n",
    "            pointsPayerId.append(item['pointsPayerId'])\n",
    "            rewardsProductPartnerId.append(item['rewardsProductPartnerId'])\n",
    "        except:\n",
    "            pass\n",
    "        \n",
    "# Test if they are the same\n",
    "testing = []\n",
    "\n",
    "for i in pointsPayerId:\n",
    "    testing.append(pointsPayerId == rewardsProductPartnerId)\n",
    "    \n",
    "print(np.unique(testing))\n",
    "print(len(pointsPayerId) == len(rewardsProductPartnerId))"
   ]
  },
  {
   "cell_type": "markdown",
   "id": "horizontal-california",
   "metadata": {},
   "source": [
    "### Users data"
   ]
  },
  {
   "cell_type": "code",
   "execution_count": 25,
   "id": "complicated-revelation",
   "metadata": {
    "scrolled": true
   },
   "outputs": [
    {
     "data": {
      "text/html": [
       "<div>\n",
       "<style scoped>\n",
       "    .dataframe tbody tr th:only-of-type {\n",
       "        vertical-align: middle;\n",
       "    }\n",
       "\n",
       "    .dataframe tbody tr th {\n",
       "        vertical-align: top;\n",
       "    }\n",
       "\n",
       "    .dataframe thead th {\n",
       "        text-align: right;\n",
       "    }\n",
       "</style>\n",
       "<table border=\"1\" class=\"dataframe\">\n",
       "  <thead>\n",
       "    <tr style=\"text-align: right;\">\n",
       "      <th></th>\n",
       "      <th>_id</th>\n",
       "      <th>active</th>\n",
       "      <th>createdDate</th>\n",
       "      <th>lastLogin</th>\n",
       "      <th>role</th>\n",
       "      <th>signUpSource</th>\n",
       "      <th>state</th>\n",
       "    </tr>\n",
       "  </thead>\n",
       "  <tbody>\n",
       "    <tr>\n",
       "      <th>0</th>\n",
       "      <td>{'$oid': '5ff1e194b6a9d73a3a9f1052'}</td>\n",
       "      <td>True</td>\n",
       "      <td>{'$date': 1609687444800}</td>\n",
       "      <td>{'$date': 1609687537858}</td>\n",
       "      <td>consumer</td>\n",
       "      <td>Email</td>\n",
       "      <td>WI</td>\n",
       "    </tr>\n",
       "    <tr>\n",
       "      <th>1</th>\n",
       "      <td>{'$oid': '5ff1e194b6a9d73a3a9f1052'}</td>\n",
       "      <td>True</td>\n",
       "      <td>{'$date': 1609687444800}</td>\n",
       "      <td>{'$date': 1609687537858}</td>\n",
       "      <td>consumer</td>\n",
       "      <td>Email</td>\n",
       "      <td>WI</td>\n",
       "    </tr>\n",
       "    <tr>\n",
       "      <th>2</th>\n",
       "      <td>{'$oid': '5ff1e194b6a9d73a3a9f1052'}</td>\n",
       "      <td>True</td>\n",
       "      <td>{'$date': 1609687444800}</td>\n",
       "      <td>{'$date': 1609687537858}</td>\n",
       "      <td>consumer</td>\n",
       "      <td>Email</td>\n",
       "      <td>WI</td>\n",
       "    </tr>\n",
       "  </tbody>\n",
       "</table>\n",
       "</div>"
      ],
      "text/plain": [
       "                                    _id  active               createdDate  \\\n",
       "0  {'$oid': '5ff1e194b6a9d73a3a9f1052'}    True  {'$date': 1609687444800}   \n",
       "1  {'$oid': '5ff1e194b6a9d73a3a9f1052'}    True  {'$date': 1609687444800}   \n",
       "2  {'$oid': '5ff1e194b6a9d73a3a9f1052'}    True  {'$date': 1609687444800}   \n",
       "\n",
       "                  lastLogin      role signUpSource state  \n",
       "0  {'$date': 1609687537858}  consumer        Email    WI  \n",
       "1  {'$date': 1609687537858}  consumer        Email    WI  \n",
       "2  {'$date': 1609687537858}  consumer        Email    WI  "
      ]
     },
     "execution_count": 25,
     "metadata": {},
     "output_type": "execute_result"
    }
   ],
   "source": [
    "df_users.head(3)"
   ]
  },
  {
   "cell_type": "code",
   "execution_count": 24,
   "id": "anticipated-memory",
   "metadata": {
    "scrolled": true
   },
   "outputs": [
    {
     "data": {
      "text/plain": [
       "_id             object\n",
       "active            bool\n",
       "createdDate     object\n",
       "lastLogin       object\n",
       "role            object\n",
       "signUpSource    object\n",
       "state           object\n",
       "dtype: object"
      ]
     },
     "execution_count": 24,
     "metadata": {},
     "output_type": "execute_result"
    }
   ],
   "source": [
    "df_users.dtypes"
   ]
  },
  {
   "cell_type": "code",
   "execution_count": 64,
   "id": "exotic-shaft",
   "metadata": {},
   "outputs": [
    {
     "data": {
      "text/plain": [
       "_id             False\n",
       "active          False\n",
       "createdDate     False\n",
       "lastLogin        True\n",
       "role            False\n",
       "signUpSource     True\n",
       "state            True\n",
       "dtype: bool"
      ]
     },
     "execution_count": 64,
     "metadata": {},
     "output_type": "execute_result"
    }
   ],
   "source": [
    "# Check if null values are allowed in each field\n",
    "df_users.isna().any()"
   ]
  },
  {
   "cell_type": "code",
   "execution_count": 142,
   "id": "extra-offset",
   "metadata": {
    "scrolled": true
   },
   "outputs": [
    {
     "data": {
      "text/plain": [
       "consumer       413\n",
       "fetch-staff     82\n",
       "Name: role, dtype: int64"
      ]
     },
     "execution_count": 142,
     "metadata": {},
     "output_type": "execute_result"
    }
   ],
   "source": [
    "# Question: Are there currently other \"roles\" in this dataset?\n",
    "df_users['role'].value_counts()"
   ]
  },
  {
   "cell_type": "code",
   "execution_count": 143,
   "id": "acoustic-buyer",
   "metadata": {},
   "outputs": [
    {
     "data": {
      "text/plain": [
       "True     494\n",
       "False      1\n",
       "Name: active, dtype: int64"
      ]
     },
     "execution_count": 143,
     "metadata": {},
     "output_type": "execute_result"
    }
   ],
   "source": [
    "# Question: What are the possible values for field \"active\"?\n",
    "df_users['active'].value_counts()"
   ]
  },
  {
   "cell_type": "markdown",
   "id": "applicable-copyright",
   "metadata": {},
   "source": [
    "### Brands data"
   ]
  },
  {
   "cell_type": "code",
   "execution_count": 26,
   "id": "peripheral-tournament",
   "metadata": {},
   "outputs": [
    {
     "data": {
      "text/html": [
       "<div>\n",
       "<style scoped>\n",
       "    .dataframe tbody tr th:only-of-type {\n",
       "        vertical-align: middle;\n",
       "    }\n",
       "\n",
       "    .dataframe tbody tr th {\n",
       "        vertical-align: top;\n",
       "    }\n",
       "\n",
       "    .dataframe thead th {\n",
       "        text-align: right;\n",
       "    }\n",
       "</style>\n",
       "<table border=\"1\" class=\"dataframe\">\n",
       "  <thead>\n",
       "    <tr style=\"text-align: right;\">\n",
       "      <th></th>\n",
       "      <th>_id</th>\n",
       "      <th>barcode</th>\n",
       "      <th>category</th>\n",
       "      <th>categoryCode</th>\n",
       "      <th>cpg</th>\n",
       "      <th>name</th>\n",
       "      <th>topBrand</th>\n",
       "      <th>brandCode</th>\n",
       "    </tr>\n",
       "  </thead>\n",
       "  <tbody>\n",
       "    <tr>\n",
       "      <th>0</th>\n",
       "      <td>{'$oid': '601ac115be37ce2ead437551'}</td>\n",
       "      <td>511111019862</td>\n",
       "      <td>Baking</td>\n",
       "      <td>BAKING</td>\n",
       "      <td>{'$id': {'$oid': '601ac114be37ce2ead437550'}, ...</td>\n",
       "      <td>test brand @1612366101024</td>\n",
       "      <td>0.0</td>\n",
       "      <td>NaN</td>\n",
       "    </tr>\n",
       "    <tr>\n",
       "      <th>1</th>\n",
       "      <td>{'$oid': '601c5460be37ce2ead43755f'}</td>\n",
       "      <td>511111519928</td>\n",
       "      <td>Beverages</td>\n",
       "      <td>BEVERAGES</td>\n",
       "      <td>{'$id': {'$oid': '5332f5fbe4b03c9a25efd0ba'}, ...</td>\n",
       "      <td>Starbucks</td>\n",
       "      <td>0.0</td>\n",
       "      <td>STARBUCKS</td>\n",
       "    </tr>\n",
       "    <tr>\n",
       "      <th>2</th>\n",
       "      <td>{'$oid': '601ac142be37ce2ead43755d'}</td>\n",
       "      <td>511111819905</td>\n",
       "      <td>Baking</td>\n",
       "      <td>BAKING</td>\n",
       "      <td>{'$id': {'$oid': '601ac142be37ce2ead437559'}, ...</td>\n",
       "      <td>test brand @1612366146176</td>\n",
       "      <td>0.0</td>\n",
       "      <td>TEST BRANDCODE @1612366146176</td>\n",
       "    </tr>\n",
       "  </tbody>\n",
       "</table>\n",
       "</div>"
      ],
      "text/plain": [
       "                                    _id       barcode   category categoryCode  \\\n",
       "0  {'$oid': '601ac115be37ce2ead437551'}  511111019862     Baking       BAKING   \n",
       "1  {'$oid': '601c5460be37ce2ead43755f'}  511111519928  Beverages    BEVERAGES   \n",
       "2  {'$oid': '601ac142be37ce2ead43755d'}  511111819905     Baking       BAKING   \n",
       "\n",
       "                                                 cpg  \\\n",
       "0  {'$id': {'$oid': '601ac114be37ce2ead437550'}, ...   \n",
       "1  {'$id': {'$oid': '5332f5fbe4b03c9a25efd0ba'}, ...   \n",
       "2  {'$id': {'$oid': '601ac142be37ce2ead437559'}, ...   \n",
       "\n",
       "                        name  topBrand                      brandCode  \n",
       "0  test brand @1612366101024       0.0                            NaN  \n",
       "1                  Starbucks       0.0                      STARBUCKS  \n",
       "2  test brand @1612366146176       0.0  TEST BRANDCODE @1612366146176  "
      ]
     },
     "execution_count": 26,
     "metadata": {},
     "output_type": "execute_result"
    }
   ],
   "source": [
    "df_brands.head(3)"
   ]
  },
  {
   "cell_type": "code",
   "execution_count": 27,
   "id": "executive-acting",
   "metadata": {},
   "outputs": [
    {
     "data": {
      "text/plain": [
       "_id              object\n",
       "barcode           int64\n",
       "category         object\n",
       "categoryCode     object\n",
       "cpg              object\n",
       "name             object\n",
       "topBrand        float64\n",
       "brandCode        object\n",
       "dtype: object"
      ]
     },
     "execution_count": 27,
     "metadata": {},
     "output_type": "execute_result"
    }
   ],
   "source": [
    "df_brands.dtypes"
   ]
  },
  {
   "cell_type": "code",
   "execution_count": 65,
   "id": "neutral-overhead",
   "metadata": {},
   "outputs": [
    {
     "data": {
      "text/plain": [
       "_id             False\n",
       "barcode         False\n",
       "category         True\n",
       "categoryCode     True\n",
       "cpg             False\n",
       "name            False\n",
       "topBrand         True\n",
       "brandCode        True\n",
       "dtype: bool"
      ]
     },
     "execution_count": 65,
     "metadata": {},
     "output_type": "execute_result"
    }
   ],
   "source": [
    "# Check if null values are allowed in each field\n",
    "df_brands.isna().any()"
   ]
  },
  {
   "cell_type": "code",
   "execution_count": 119,
   "id": "executive-rover",
   "metadata": {},
   "outputs": [
    {
     "data": {
      "text/plain": [
       "False"
      ]
     },
     "execution_count": 119,
     "metadata": {},
     "output_type": "execute_result"
    }
   ],
   "source": [
    "# Question: Is barcode unique?\n",
    "df_brands['barcode'].is_unique"
   ]
  },
  {
   "cell_type": "code",
   "execution_count": 126,
   "id": "attempted-glass",
   "metadata": {},
   "outputs": [
    {
     "data": {
      "text/plain": [
       "299     511111504139\n",
       "412     511111504788\n",
       "536     511111204923\n",
       "651     511111305125\n",
       "1012    511111605058\n",
       "1015    511111704140\n",
       "1071    511111004790\n",
       "Name: barcode, dtype: int64"
      ]
     },
     "execution_count": 126,
     "metadata": {},
     "output_type": "execute_result"
    }
   ],
   "source": [
    "# What are the duplicates?\n",
    "df_brands.loc[df_brands['barcode'].duplicated(), 'barcode']"
   ]
  },
  {
   "cell_type": "code",
   "execution_count": 146,
   "id": "strange-fever",
   "metadata": {},
   "outputs": [
    {
     "data": {
      "text/plain": [
       "True"
      ]
     },
     "execution_count": 146,
     "metadata": {},
     "output_type": "execute_result"
    }
   ],
   "source": [
    "# Question: Are there duplicates in \"brandCode\"?\n",
    "df_brands['brandCode'].duplicated().any()"
   ]
  },
  {
   "cell_type": "code",
   "execution_count": null,
   "id": "equal-orbit",
   "metadata": {},
   "outputs": [],
   "source": []
  },
  {
   "cell_type": "code",
   "execution_count": null,
   "id": "relevant-kitty",
   "metadata": {},
   "outputs": [],
   "source": []
  },
  {
   "cell_type": "code",
   "execution_count": null,
   "id": "acting-palace",
   "metadata": {},
   "outputs": [],
   "source": []
  },
  {
   "cell_type": "code",
   "execution_count": null,
   "id": "weird-diary",
   "metadata": {},
   "outputs": [],
   "source": []
  },
  {
   "cell_type": "code",
   "execution_count": null,
   "id": "reflected-bangladesh",
   "metadata": {},
   "outputs": [],
   "source": []
  },
  {
   "cell_type": "code",
   "execution_count": null,
   "id": "nutritional-campaign",
   "metadata": {},
   "outputs": [],
   "source": []
  }
 ],
 "metadata": {
  "kernelspec": {
   "display_name": "Python [conda env:PythonData] *",
   "language": "python",
   "name": "conda-env-PythonData-py"
  },
  "language_info": {
   "codemirror_mode": {
    "name": "ipython",
    "version": 3
   },
   "file_extension": ".py",
   "mimetype": "text/x-python",
   "name": "python",
   "nbconvert_exporter": "python",
   "pygments_lexer": "ipython3",
   "version": "3.6.10"
  }
 },
 "nbformat": 4,
 "nbformat_minor": 5
}
